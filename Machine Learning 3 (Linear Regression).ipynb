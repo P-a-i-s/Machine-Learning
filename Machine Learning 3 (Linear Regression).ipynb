{
 "cells": [
  {
   "cell_type": "code",
   "execution_count": 1,
   "metadata": {
    "collapsed": true
   },
   "outputs": [],
   "source": [
    "%matplotlib inline\n",
    "import numpy as np\n",
    "import matplotlib.pyplot as plt"
   ]
  },
  {
   "cell_type": "code",
   "execution_count": 18,
   "metadata": {
    "collapsed": false
   },
   "outputs": [],
   "source": [
    "x = np.arange(20)\n",
    "y = 4*x - 3*x**2 + 4*x*9"
   ]
  },
  {
   "cell_type": "code",
   "execution_count": 19,
   "metadata": {
    "collapsed": false
   },
   "outputs": [
    {
     "data": {
      "text/plain": [
       "<matplotlib.collections.PathCollection at 0x10b7259d0>"
      ]
     },
     "execution_count": 19,
     "metadata": {},
     "output_type": "execute_result"
    },
    {
     "data": {
      "image/png": "[encoded data removed]",
      "text/plain": [
       "<matplotlib.figure.Figure at 0x10b7b1d90>"
      ]
     },
     "metadata": {},
     "output_type": "display_data"
    }
   ],
   "source": [
    "plt.scatter(x,y)"
   ]
  },
  {
   "cell_type": "markdown",
   "metadata": {},
   "source": [
    "### SIMPLE LINEAR REGRESSION"
   ]
  },
  {
   "cell_type": "code",
   "execution_count": 31,
   "metadata": {
    "collapsed": false
   },
   "outputs": [
    {
     "data": {
      "text/plain": [
       "array([  2.65326739,   8.56128423,  -5.66895863,   1.03398685,\n",
       "        -3.18219253,  -2.91881241,   0.3850064 ,   2.6532587 ,\n",
       "         2.74351393,   4.88870572,   2.63673199,  10.39684461,\n",
       "        -0.86014725,  11.92535308,  -4.26133265,  10.50960534,\n",
       "         3.466255  ,   6.79099968,  -1.89209091,  -1.39022006,\n",
       "         9.87237318,  14.01588879,   1.05958933,   9.4330755 ,\n",
       "        13.36676646,  13.82323535,  -3.01352845,  -3.33376317,\n",
       "        -2.35778955,  13.81571822,  -2.5201335 ,   3.12405966,\n",
       "        14.64630875,   5.58773399,   9.96917167,   2.83012944,\n",
       "        10.91559396,  10.2960171 ,  -6.07834826,   9.49842044,\n",
       "        14.93725885,  10.83948201,   0.92451479,   8.76338535,\n",
       "        -3.24168388,   4.78584517,  13.4020048 ,   1.63429415,\n",
       "         0.53317863,  -2.60018663])"
      ]
     },
     "execution_count": 31,
     "metadata": {},
     "output_type": "execute_result"
    },
    {
     "data": {
      "image/png": "[encoded data removed]",
      "text/plain": [
       "<matplotlib.figure.Figure at 0x10e180ad0>"
      ]
     },
     "metadata": {},
     "output_type": "display_data"
    }
   ],
   "source": [
    "rng = np.random.RandomState(1)\n",
    "x = 10 * rng.rand(50)\n",
    "y = 2 * x - 5 + rng.randn(50)\n",
    "plt.scatter(x,y)\n",
    "x\n",
    "y"
   ]
  },
  {
   "cell_type": "code",
   "execution_count": 22,
   "metadata": {
    "collapsed": true
   },
   "outputs": [],
   "source": [
    "from sklearn.linear_model import LinearRegression\n",
    "#Creating a Model\n",
    "model = LinearRegression(fit_intercept = True)"
   ]
  },
  {
   "cell_type": "code",
   "execution_count": 23,
   "metadata": {
    "collapsed": false
   },
   "outputs": [
    {
     "data": {
      "text/plain": [
       "LinearRegression(copy_X=True, fit_intercept=True, n_jobs=1, normalize=False)"
      ]
     },
     "execution_count": 23,
     "metadata": {},
     "output_type": "execute_result"
    }
   ],
   "source": [
    "#Training the model\n",
    "model.fit(x[:, np.newaxis],y)"
   ]
  },
  {
   "cell_type": "code",
   "execution_count": 24,
   "metadata": {
    "collapsed": true
   },
   "outputs": [],
   "source": [
    "#y is the target vector which is represented in a single dimension\n",
    "# x[:, np.newaxis] is the feature list that we are transposing into an understandable format "
   ]
  },
  {
   "cell_type": "code",
   "execution_count": 25,
   "metadata": {
    "collapsed": false
   },
   "outputs": [
    {
     "data": {
      "text/plain": [
       "array([  0.        ,   0.52631579,   1.05263158,   1.57894737,\n",
       "         2.10526316,   2.63157895,   3.15789474,   3.68421053,\n",
       "         4.21052632,   4.73684211,   5.26315789,   5.78947368,\n",
       "         6.31578947,   6.84210526,   7.36842105,   7.89473684,\n",
       "         8.42105263,   8.94736842,   9.47368421,  10.        ])"
      ]
     },
     "execution_count": 25,
     "metadata": {},
     "output_type": "execute_result"
    }
   ],
   "source": [
    "#xtest\n",
    "xtest = np.linspace(0,10,20)\n",
    "xtest"
   ]
  },
  {
   "cell_type": "code",
   "execution_count": 34,
   "metadata": {
    "collapsed": true
   },
   "outputs": [],
   "source": [
    "ytest = model.predict(xtest[:,np.newaxis])"
   ]
  },
  {
   "cell_type": "code",
   "execution_count": 35,
   "metadata": {
    "collapsed": false
   },
   "outputs": [
    {
     "data": {
      "text/plain": [
       "<matplotlib.collections.PathCollection at 0x10e5d4250>"
      ]
     },
     "execution_count": 35,
     "metadata": {},
     "output_type": "execute_result"
    },
    {
     "data": {
      "image/png": "[encoded data removed]",
      "text/plain": [
       "<matplotlib.figure.Figure at 0x10e4f2310>"
      ]
     },
     "metadata": {},
     "output_type": "display_data"
    }
   ],
   "source": [
    "plt.scatter(xtest,ytest)"
   ]
  },
  {
   "cell_type": "code",
   "execution_count": 36,
   "metadata": {
    "collapsed": false
   },
   "outputs": [
    {
     "data": {
      "text/plain": [
       "array([ 2.02720881])"
      ]
     },
     "execution_count": 36,
     "metadata": {},
     "output_type": "execute_result"
    }
   ],
   "source": [
    "model.coef_"
   ]
  },
  {
   "cell_type": "code",
   "execution_count": 37,
   "metadata": {
    "collapsed": false
   },
   "outputs": [
    {
     "data": {
      "text/plain": [
       "-4.9985770855532037"
      ]
     },
     "execution_count": 37,
     "metadata": {},
     "output_type": "execute_result"
    }
   ],
   "source": [
    "model.intercept_"
   ]
  },
  {
   "cell_type": "code",
   "execution_count": 38,
   "metadata": {
    "collapsed": false
   },
   "outputs": [
    {
     "data": {
      "text/plain": [
       "<matplotlib.collections.PathCollection at 0x10e751050>"
      ]
     },
     "execution_count": 38,
     "metadata": {},
     "output_type": "execute_result"
    },
    {
     "data": {
      "image/png": "[encoded data removed]",
      "text/plain": [
       "<matplotlib.figure.Figure at 0x10e4f2b50>"
      ]
     },
     "metadata": {},
     "output_type": "display_data"
    }
   ],
   "source": [
    "rng = np.random.RandomState(1)\n",
    "x = 10*rng.rand(50)\n",
    "y = 5*x**2 + 2*x-5 + rng.randn(50)\n",
    "plt.scatter(x,y)"
   ]
  },
  {
   "cell_type": "code",
   "execution_count": 39,
   "metadata": {
    "collapsed": false
   },
   "outputs": [
    {
     "data": {
      "text/plain": [
       "LinearRegression(copy_X=True, fit_intercept=True, n_jobs=1, normalize=False)"
      ]
     },
     "execution_count": 39,
     "metadata": {},
     "output_type": "execute_result"
    }
   ],
   "source": [
    "model = LinearRegression(fit_intercept=True)\n",
    "model.fit(x[:,np.newaxis],y)"
   ]
  },
  {
   "cell_type": "code",
   "execution_count": 40,
   "metadata": {
    "collapsed": true
   },
   "outputs": [],
   "source": [
    "ypredict = model.predict(x[:,np.newaxis])"
   ]
  },
  {
   "cell_type": "code",
   "execution_count": 42,
   "metadata": {
    "collapsed": false
   },
   "outputs": [
    {
     "data": {
      "text/plain": [
       "<matplotlib.collections.PathCollection at 0x10e81d410>"
      ]
     },
     "execution_count": 42,
     "metadata": {},
     "output_type": "execute_result"
    },
    {
     "data": {
      "image/png": "[encoded data removed]",
      "text/plain": [
       "<matplotlib.figure.Figure at 0x10e81db10>"
      ]
     },
     "metadata": {},
     "output_type": "display_data"
    }
   ],
   "source": [
    "plt.scatter(x,y)\n",
    "plt.scatter(x,ypredict,color='orange')"
   ]
  },
  {
   "cell_type": "code",
   "execution_count": 44,
   "metadata": {
    "collapsed": false
   },
   "outputs": [
    {
     "name": "stdout",
     "output_type": "stream",
     "text": [
      "[ 50.95948378]\n",
      "-77.8696079561\n"
     ]
    },
    {
     "data": {
      "text/plain": [
       "array([  4.17022005e+00,   7.20324493e+00,   1.14374817e-03,\n",
       "         3.02332573e+00,   1.46755891e+00,   9.23385948e-01,\n",
       "         1.86260211e+00,   3.45560727e+00,   3.96767474e+00,\n",
       "         5.38816734e+00,   4.19194514e+00,   6.85219500e+00,\n",
       "         2.04452250e+00,   8.78117436e+00,   2.73875932e-01,\n",
       "         6.70467510e+00,   4.17304802e+00,   5.58689828e+00,\n",
       "         1.40386939e+00,   1.98101489e+00,   8.00744569e+00,\n",
       "         9.68261576e+00,   3.13424178e+00,   6.92322616e+00,\n",
       "         8.76389152e+00,   8.94606664e+00,   8.50442114e-01,\n",
       "         3.90547832e-01,   1.69830420e+00,   8.78142503e+00,\n",
       "         9.83468338e-01,   4.21107625e+00,   9.57889530e+00,\n",
       "         5.33165285e+00,   6.91877114e+00,   3.15515631e+00,\n",
       "         6.86500928e+00,   8.34625672e+00,   1.82882773e-01,\n",
       "         7.50144315e+00,   9.88861089e+00,   7.48165654e+00,\n",
       "         2.80443992e+00,   7.89279328e+00,   1.03226007e+00,\n",
       "         4.47893526e+00,   9.08595503e+00,   2.93614148e+00,\n",
       "         2.87775339e+00,   1.30028572e+00])"
      ]
     },
     "execution_count": 44,
     "metadata": {},
     "output_type": "execute_result"
    }
   ],
   "source": [
    "print (model.coef_)\n",
    "print (model.intercept_)\n",
    "x"
   ]
  },
  {
   "cell_type": "markdown",
   "metadata": {},
   "source": [
    "### POLYNOMIAL FUNCTION"
   ]
  },
  {
   "cell_type": "code",
   "execution_count": 46,
   "metadata": {
    "collapsed": false
   },
   "outputs": [],
   "source": [
    "from sklearn.preprocessing import PolynomialFeatures\n",
    "poly = PolynomialFeatures(2)"
   ]
  },
  {
   "cell_type": "code",
   "execution_count": 47,
   "metadata": {
    "collapsed": false
   },
   "outputs": [
    {
     "data": {
      "text/plain": [
       "array([[  1.00000000e+00,   4.17022005e+00,   1.73907352e+01],\n",
       "       [  1.00000000e+00,   7.20324493e+00,   5.18867376e+01],\n",
       "       [  1.00000000e+00,   1.14374817e-03,   1.30815988e-06],\n",
       "       [  1.00000000e+00,   3.02332573e+00,   9.14049845e+00],\n",
       "       [  1.00000000e+00,   1.46755891e+00,   2.15372915e+00],\n",
       "       [  1.00000000e+00,   9.23385948e-01,   8.52641608e-01],\n",
       "       [  1.00000000e+00,   1.86260211e+00,   3.46928663e+00],\n",
       "       [  1.00000000e+00,   3.45560727e+00,   1.19412216e+01],\n",
       "       [  1.00000000e+00,   3.96767474e+00,   1.57424429e+01],\n",
       "       [  1.00000000e+00,   5.38816734e+00,   2.90323473e+01],\n",
       "       [  1.00000000e+00,   4.19194514e+00,   1.75724041e+01],\n",
       "       [  1.00000000e+00,   6.85219500e+00,   4.69525764e+01],\n",
       "       [  1.00000000e+00,   2.04452250e+00,   4.18007224e+00],\n",
       "       [  1.00000000e+00,   8.78117436e+00,   7.71090232e+01],\n",
       "       [  1.00000000e+00,   2.73875932e-01,   7.50080261e-02],\n",
       "       [  1.00000000e+00,   6.70467510e+00,   4.49526682e+01],\n",
       "       [  1.00000000e+00,   4.17304802e+00,   1.74143298e+01],\n",
       "       [  1.00000000e+00,   5.58689828e+00,   3.12134324e+01],\n",
       "       [  1.00000000e+00,   1.40386939e+00,   1.97084925e+00],\n",
       "       [  1.00000000e+00,   1.98101489e+00,   3.92442000e+00],\n",
       "       [  1.00000000e+00,   8.00744569e+00,   6.41191864e+01],\n",
       "       [  1.00000000e+00,   9.68261576e+00,   9.37530479e+01],\n",
       "       [  1.00000000e+00,   3.13424178e+00,   9.82347155e+00],\n",
       "       [  1.00000000e+00,   6.92322616e+00,   4.79310604e+01],\n",
       "       [  1.00000000e+00,   8.76389152e+00,   7.68057946e+01],\n",
       "       [  1.00000000e+00,   8.94606664e+00,   8.00321082e+01],\n",
       "       [  1.00000000e+00,   8.50442114e-01,   7.23251789e-01],\n",
       "       [  1.00000000e+00,   3.90547832e-01,   1.52527609e-01],\n",
       "       [  1.00000000e+00,   1.69830420e+00,   2.88423714e+00],\n",
       "       [  1.00000000e+00,   8.78142503e+00,   7.71134256e+01],\n",
       "       [  1.00000000e+00,   9.83468338e-01,   9.67209972e-01],\n",
       "       [  1.00000000e+00,   4.21107625e+00,   1.77331632e+01],\n",
       "       [  1.00000000e+00,   9.57889530e+00,   9.17552352e+01],\n",
       "       [  1.00000000e+00,   5.33165285e+00,   2.84265221e+01],\n",
       "       [  1.00000000e+00,   6.91877114e+00,   4.78693941e+01],\n",
       "       [  1.00000000e+00,   3.15515631e+00,   9.95501134e+00],\n",
       "       [  1.00000000e+00,   6.86500928e+00,   4.71283524e+01],\n",
       "       [  1.00000000e+00,   8.34625672e+00,   6.96600012e+01],\n",
       "       [  1.00000000e+00,   1.82882773e-01,   3.34461088e-02],\n",
       "       [  1.00000000e+00,   7.50144315e+00,   5.62716493e+01],\n",
       "       [  1.00000000e+00,   9.88861089e+00,   9.77846253e+01],\n",
       "       [  1.00000000e+00,   7.48165654e+00,   5.59751846e+01],\n",
       "       [  1.00000000e+00,   2.80443992e+00,   7.86488327e+00],\n",
       "       [  1.00000000e+00,   7.89279328e+00,   6.22961858e+01],\n",
       "       [  1.00000000e+00,   1.03226007e+00,   1.06556084e+00],\n",
       "       [  1.00000000e+00,   4.47893526e+00,   2.00608611e+01],\n",
       "       [  1.00000000e+00,   9.08595503e+00,   8.25545788e+01],\n",
       "       [  1.00000000e+00,   2.93614148e+00,   8.62092681e+00],\n",
       "       [  1.00000000e+00,   2.87775339e+00,   8.28146455e+00],\n",
       "       [  1.00000000e+00,   1.30028572e+00,   1.69074296e+00]])"
      ]
     },
     "execution_count": 47,
     "metadata": {},
     "output_type": "execute_result"
    }
   ],
   "source": [
    "poly.fit_transform(x[:, None])"
   ]
  },
  {
   "cell_type": "markdown",
   "metadata": {},
   "source": [
    "## Making of a Pipeline"
   ]
  },
  {
   "cell_type": "code",
   "execution_count": 48,
   "metadata": {
    "collapsed": true
   },
   "outputs": [],
   "source": [
    "from sklearn.pipeline import make_pipeline"
   ]
  },
  {
   "cell_type": "code",
   "execution_count": 49,
   "metadata": {
    "collapsed": true
   },
   "outputs": [],
   "source": [
    "poly_model = make_pipeline(PolynomialFeatures(5),LinearRegression())"
   ]
  },
  {
   "cell_type": "code",
   "execution_count": 51,
   "metadata": {
    "collapsed": false
   },
   "outputs": [
    {
     "data": {
      "text/plain": [
       "Pipeline(steps=[('polynomialfeatures', PolynomialFeatures(degree=5, include_bias=True, interaction_only=False)), ('linearregression', LinearRegression(copy_X=True, fit_intercept=True, n_jobs=1, normalize=False))])"
      ]
     },
     "execution_count": 51,
     "metadata": {},
     "output_type": "execute_result"
    }
   ],
   "source": [
    "poly_model.fit(x[:,np.newaxis],y)"
   ]
  },
  {
   "cell_type": "code",
   "execution_count": 53,
   "metadata": {
    "collapsed": false
   },
   "outputs": [],
   "source": [
    "y_polytest = poly_model.predict(xtest[:,np.newaxis])"
   ]
  },
  {
   "cell_type": "code",
   "execution_count": 54,
   "metadata": {
    "collapsed": false
   },
   "outputs": [
    {
     "data": {
      "text/plain": [
       "<matplotlib.collections.PathCollection at 0x10eb54cd0>"
      ]
     },
     "execution_count": 54,
     "metadata": {},
     "output_type": "execute_result"
    },
    {
     "data": {
      "image/png": "[encoded data removed]",
      "text/plain": [
       "<matplotlib.figure.Figure at 0x10e8fbc50>"
      ]
     },
     "metadata": {},
     "output_type": "display_data"
    }
   ],
   "source": [
    "plt.scatter(xtest,y_polytest)"
   ]
  },
  {
   "cell_type": "markdown",
   "metadata": {},
   "source": [
    "## SCORE!"
   ]
  },
  {
   "cell_type": "code",
   "execution_count": 55,
   "metadata": {
    "collapsed": true
   },
   "outputs": [],
   "source": [
    "rng = np.random.RandomState(1)\n",
    "x = 10 * rng.rand(100)\n",
    "y = 5*x**2 + 2 * x - 5 + rng.randn(100)"
   ]
  },
  {
   "cell_type": "code",
   "execution_count": 60,
   "metadata": {
    "collapsed": false
   },
   "outputs": [
    {
     "data": {
      "text/plain": [
       "0.93885063989311979"
      ]
     },
     "execution_count": 60,
     "metadata": {},
     "output_type": "execute_result"
    }
   ],
   "source": [
    "model.score(x[:,np.newaxis],y)"
   ]
  },
  {
   "cell_type": "code",
   "execution_count": 57,
   "metadata": {
    "collapsed": false
   },
   "outputs": [
    {
     "data": {
      "text/plain": [
       "0.99996196741032184"
      ]
     },
     "execution_count": 57,
     "metadata": {},
     "output_type": "execute_result"
    }
   ],
   "source": [
    "poly_model.score(x[:, np.newaxis],y)"
   ]
  },
  {
   "cell_type": "code",
   "execution_count": 68,
   "metadata": {
    "collapsed": false
   },
   "outputs": [
    {
     "data": {
      "text/plain": [
       "<matplotlib.collections.PathCollection at 0x10de58bd0>"
      ]
     },
     "execution_count": 68,
     "metadata": {},
     "output_type": "execute_result"
    },
    {
     "data": {
      "image/png": "[encoded data removed]",
      "text/plain": [
       "<matplotlib.figure.Figure at 0x10b7cf590>"
      ]
     },
     "metadata": {},
     "output_type": "display_data"
    }
   ],
   "source": [
    "plt.scatter(x,y)"
   ]
  },
  {
   "cell_type": "code",
   "execution_count": 69,
   "metadata": {
    "collapsed": false
   },
   "outputs": [
    {
     "data": {
      "text/plain": [
       "array([  4.17022005e+00,   7.20324493e+00,   1.14374817e-03,\n",
       "         3.02332573e+00,   1.46755891e+00,   9.23385948e-01,\n",
       "         1.86260211e+00,   3.45560727e+00,   3.96767474e+00,\n",
       "         5.38816734e+00,   4.19194514e+00,   6.85219500e+00,\n",
       "         2.04452250e+00,   8.78117436e+00,   2.73875932e-01,\n",
       "         6.70467510e+00,   4.17304802e+00,   5.58689828e+00,\n",
       "         1.40386939e+00,   1.98101489e+00,   8.00744569e+00,\n",
       "         9.68261576e+00,   3.13424178e+00,   6.92322616e+00,\n",
       "         8.76389152e+00,   8.94606664e+00,   8.50442114e-01,\n",
       "         3.90547832e-01,   1.69830420e+00,   8.78142503e+00,\n",
       "         9.83468338e-01,   4.21107625e+00,   9.57889530e+00,\n",
       "         5.33165285e+00,   6.91877114e+00,   3.15515631e+00,\n",
       "         6.86500928e+00,   8.34625672e+00,   1.82882773e-01,\n",
       "         7.50144315e+00,   9.88861089e+00,   7.48165654e+00,\n",
       "         2.80443992e+00,   7.89279328e+00,   1.03226007e+00,\n",
       "         4.47893526e+00,   9.08595503e+00,   2.93614148e+00,\n",
       "         2.87775339e+00,   1.30028572e+00,   1.93669579e-01,\n",
       "         6.78835533e+00,   2.11628116e+00,   2.65546659e+00,\n",
       "         4.91573159e+00,   5.33625451e-01,   5.74117605e+00,\n",
       "         1.46728575e+00,   5.89305537e+00,   6.99758360e+00,\n",
       "         1.02334429e+00,   4.14055988e+00,   6.94400158e+00,\n",
       "         4.14179270e+00,   4.99534589e-01,   5.35896406e+00,\n",
       "         6.63794645e+00,   5.14889112e+00,   9.44594756e+00,\n",
       "         5.86555041e+00,   9.03401915e+00,   1.37474704e+00,\n",
       "         1.39276347e+00,   8.07391289e+00,   3.97676837e+00,\n",
       "         1.65354197e+00,   9.27508580e+00,   3.47765860e+00,\n",
       "         7.50812103e+00,   7.25997985e+00,   8.83306091e+00,\n",
       "         6.23672207e+00,   7.50942434e+00,   3.48898342e+00,\n",
       "         2.69927892e+00,   8.95886218e+00,   4.28091190e+00,\n",
       "         9.64840047e+00,   6.63441498e+00,   6.21695720e+00,\n",
       "         1.14745973e+00,   9.49489259e+00,   4.49912133e+00,\n",
       "         5.78389614e+00,   4.08136803e+00,   2.37026980e+00,\n",
       "         9.03379521e+00,   5.73679487e+00,   2.87032703e-02,\n",
       "         6.17144914e+00])"
      ]
     },
     "execution_count": 69,
     "metadata": {},
     "output_type": "execute_result"
    }
   ],
   "source": [
    "x"
   ]
  },
  {
   "cell_type": "code",
   "execution_count": 70,
   "metadata": {
    "collapsed": false
   },
   "outputs": [
    {
     "data": {
      "text/plain": [
       "array([  9.06097512e+01,   2.66817977e+02,  -5.30390998e+00,\n",
       "         4.75771183e+01,   8.93385830e+00,   1.87199112e+00,\n",
       "         1.58493093e+01,   6.14165645e+01,   8.18341252e+01,\n",
       "         1.51348123e+02,   9.14442105e+01,   2.43586281e+02,\n",
       "         1.93187439e+01,   3.98485029e+02,  -3.95538673e+00,\n",
       "         2.34302175e+02,   9.16166630e+01,   1.62426115e+02,\n",
       "         7.28670009e+00,   1.79453994e+01,   3.32034318e+02,\n",
       "         4.83207811e+02,   5.00419876e+01,   2.48545351e+02,\n",
       "         3.95936755e+02,   4.13750706e+02,  -1.29985394e-01,\n",
       "        -2.23175858e+00,   1.32212857e+01,   3.98723557e+02,\n",
       "         7.08074693e-01,   9.22573509e+01,   4.73674523e+02,\n",
       "         1.46842216e+02,   2.47918294e+02,   5.11179839e+01,\n",
       "         2.42998663e+02,   3.60307679e+02,  -3.62084326e+00,\n",
       "         2.90501617e+02,   5.04050894e+02,   2.88526953e+02,\n",
       "         3.98946007e+01,   3.20650743e+02,   3.51374206e+00,\n",
       "         1.04671076e+02,   4.25920187e+02,   4.32017554e+01,\n",
       "         4.34365855e+01,   8.02138798e+00,  -6.28310318e+00,\n",
       "         2.40221715e+02,   2.32534428e+01,   3.59064590e+01,\n",
       "         1.24454281e+02,  -1.64562317e+00,   1.71106944e+02,\n",
       "         8.09528822e+00,   1.79196561e+02,   2.54376586e+02,\n",
       "         3.07566310e+00,   8.83787696e+01,   2.50504369e+02,\n",
       "         8.79114777e+01,  -1.95139576e+00,   1.49356974e+02,\n",
       "         2.28400989e+02,   1.37751435e+02,   4.60890408e+02,\n",
       "         1.79504920e+02,   4.21665014e+02,   7.33684243e+00,\n",
       "         7.56229852e+00,   3.37706553e+02,   8.22594646e+01,\n",
       "         1.26606406e+01,   4.43376138e+02,   5.99910260e+01,\n",
       "         2.92914474e+02,   2.75243477e+02,   4.03222312e+02,\n",
       "         2.01856800e+02,   2.91839674e+02,   6.27239392e+01,\n",
       "         3.68465006e+01,   4.13101764e+02,   9.46757628e+01,\n",
       "         4.78757932e+02,   2.28594940e+02,   2.00390058e+02,\n",
       "         4.37344994e+00,   4.64580008e+02,   1.06195042e+02,\n",
       "         1.74048599e+02,   8.86412607e+01,   2.59350734e+01,\n",
       "         4.20467953e+02,   1.71929153e+02,  -2.41014836e+00,\n",
       "         1.97528186e+02])"
      ]
     },
     "execution_count": 70,
     "metadata": {},
     "output_type": "execute_result"
    }
   ],
   "source": [
    "y"
   ]
  },
  {
   "cell_type": "code",
   "execution_count": null,
   "metadata": {
    "collapsed": true
   },
   "outputs": [],
   "source": []
  }
 ],
 "metadata": {
  "kernelspec": {
   "display_name": "Python 2",
   "language": "python",
   "name": "python2"
  },
  "language_info": {
   "codemirror_mode": {
    "name": "ipython",
    "version": 2
   },
   "file_extension": ".py",
   "mimetype": "text/x-python",
   "name": "python",
   "nbconvert_exporter": "python",
   "pygments_lexer": "ipython2",
   "version": "2.7.13"
  }
 },
 "nbformat": 4,
 "nbformat_minor": 2
}
